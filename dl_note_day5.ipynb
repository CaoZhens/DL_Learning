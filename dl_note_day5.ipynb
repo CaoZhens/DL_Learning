{
 "cells": [
  {
   "cell_type": "markdown",
   "metadata": {},
   "source": [
    "## Python中的广播"
   ]
  },
  {
   "cell_type": "code",
   "execution_count": 2,
   "metadata": {
    "collapsed": false
   },
   "outputs": [
    {
     "name": "stdout",
     "output_type": "stream",
     "text": [
      "[[  56.     0.     4.4   68. ]\n",
      " [   1.2  104.    52.     8. ]\n",
      " [   1.8  135.    99.     0.9]]\n"
     ]
    }
   ],
   "source": [
    "import numpy as np\n",
    "A = np.array([[56.0, 0.0, 4.4, 68.0],\n",
    "             [1.2, 104.0, 52.0, 8.0],\n",
    "             [1.8, 135.0, 99.0, 0.9]])\n",
    "print A"
   ]
  },
  {
   "cell_type": "markdown",
   "metadata": {},
   "source": [
    "### 计算每列的和"
   ]
  },
  {
   "cell_type": "code",
   "execution_count": 3,
   "metadata": {
    "collapsed": false
   },
   "outputs": [
    {
     "name": "stdout",
     "output_type": "stream",
     "text": [
      "[  59.   239.   155.4   76.9]\n"
     ]
    }
   ],
   "source": [
    "cal = A.sum(axis=0)\n",
    "print cal"
   ]
  },
  {
   "cell_type": "markdown",
   "metadata": {},
   "source": [
    "### 计算百分比"
   ]
  },
  {
   "cell_type": "code",
   "execution_count": 5,
   "metadata": {
    "collapsed": false
   },
   "outputs": [
    {
     "name": "stdout",
     "output_type": "stream",
     "text": [
      "[[ 0.94915254  0.          0.02831403  0.88426528]\n",
      " [ 0.02033898  0.43514644  0.33462033  0.10403121]\n",
      " [ 0.03050847  0.56485356  0.63706564  0.01170351]]\n"
     ]
    }
   ],
   "source": [
    "per = A / cal.reshape(1,4)\n",
    "print per"
   ]
  },
  {
   "cell_type": "markdown",
   "metadata": {},
   "source": [
    "### 广播机制的几个例子"
   ]
  },
  {
   "cell_type": "code",
   "execution_count": 7,
   "metadata": {
    "collapsed": false
   },
   "outputs": [
    {
     "name": "stdout",
     "output_type": "stream",
     "text": [
      "[[1]\n",
      " [2]\n",
      " [3]\n",
      " [4]]\n",
      "[[101]\n",
      " [102]\n",
      " [103]\n",
      " [104]]\n"
     ]
    }
   ],
   "source": [
    "a1 = np.array([1, 2, 3, 4]).reshape(4,1)\n",
    "print a1\n",
    "print a1 + 100"
   ]
  },
  {
   "cell_type": "code",
   "execution_count": 14,
   "metadata": {
    "collapsed": false
   },
   "outputs": [
    {
     "name": "stdout",
     "output_type": "stream",
     "text": [
      "[[1 2 3]\n",
      " [4 5 6]]\n",
      "[[101 202 303]\n",
      " [104 205 306]]\n",
      "[[101 102 103]\n",
      " [204 205 206]]\n"
     ]
    }
   ],
   "source": [
    "a2 = np.array(1+np.arange(6)).reshape(2,3)\n",
    "print a2\n",
    "print a2 + np.array([100, 200, 300])\n",
    "print a2 + np.array([100, 200]).reshape(2,1)"
   ]
  },
  {
   "cell_type": "markdown",
   "metadata": {},
   "source": [
    "## Python Numpy中的向量shape —— 一维数组与行列向量"
   ]
  },
  {
   "cell_type": "code",
   "execution_count": 18,
   "metadata": {
    "collapsed": false
   },
   "outputs": [
    {
     "name": "stdout",
     "output_type": "stream",
     "text": [
      "[ 2.19298187  0.75117019 -0.65155682  0.17783632  1.2642782 ]\n",
      "(5,)\n",
      "[ 2.19298187  0.75117019 -0.65155682  0.17783632  1.2642782 ]\n",
      "7.42797753238\n"
     ]
    }
   ],
   "source": [
    "a = np.random.randn(5)\n",
    "print a\n",
    "print a.shape\n",
    "print a.T\n",
    "print np.dot(a, a.T)"
   ]
  },
  {
   "cell_type": "code",
   "execution_count": 19,
   "metadata": {
    "collapsed": false
   },
   "outputs": [
    {
     "name": "stdout",
     "output_type": "stream",
     "text": [
      "[[-1.06398073]\n",
      " [-2.92806257]\n",
      " [-0.66202723]\n",
      " [-0.33249105]\n",
      " [ 1.18185057]]\n",
      "(5, 1)\n",
      "[[-1.06398073 -2.92806257 -0.66202723 -0.33249105  1.18185057]]\n",
      "[[ 1.132055    3.11540216  0.70438422  0.35376407 -1.25746624]\n",
      " [ 3.11540216  8.57355041  1.93845716  0.97355458 -3.46053242]\n",
      " [ 0.70438422  1.93845716  0.43828006  0.22011813 -0.78241726]\n",
      " [ 0.35376407  0.97355458  0.22011813  0.1105503  -0.39295473]\n",
      " [-1.25746624 -3.46053242 -0.78241726 -0.39295473  1.39677078]]\n"
     ]
    }
   ],
   "source": [
    "a = np.random.randn(5, 1)\n",
    "print a\n",
    "print a.shape\n",
    "print a.T\n",
    "print np.dot(a, a.T)"
   ]
  }
 ],
 "metadata": {
  "kernelspec": {
   "display_name": "Python 2",
   "language": "python",
   "name": "python2"
  },
  "language_info": {
   "codemirror_mode": {
    "name": "ipython",
    "version": 2
   },
   "file_extension": ".py",
   "mimetype": "text/x-python",
   "name": "python",
   "nbconvert_exporter": "python",
   "pygments_lexer": "ipython2",
   "version": "2.7.13"
  }
 },
 "nbformat": 4,
 "nbformat_minor": 2
}
